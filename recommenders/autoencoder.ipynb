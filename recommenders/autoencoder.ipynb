{
 "cells": [
  {
   "cell_type": "code",
   "execution_count": null,
   "id": "3ccb7f3e",
   "metadata": {},
   "outputs": [],
   "source": [
    "\n",
    "import numpy as np\n",
    "import pandas as pd\n",
    "\n",
    "import torch\n",
    "import torch.nn as nn\n",
    "from torch.utils.data import Dataset, DataLoader\n",
    "\n",
    "torch.manual_seed(42)\n",
    "np.random.seed(42)\n",
    "\n",
    "device = torch.device(\"cuda\" if torch.cuda.is_available() else \"cpu\")"
   ]
  },
  {
   "cell_type": "markdown",
   "id": "d2a51b2e",
   "metadata": {},
   "source": [
    "### Loading & Preprocessing Ratings"
   ]
  },
  {
   "cell_type": "code",
   "execution_count": null,
   "id": "9b51d5a5",
   "metadata": {},
   "outputs": [],
   "source": [
    "\n",
    "ratings = pd.read_csv(\n",
    "    \"data/ratings.dat\",\n",
    "    sep=\"::\",\n",
    "    engine=\"python\",\n",
    "    names=[\"user\", \"item\", \"rating\", \"timestamp\"]\n",
    ")\n",
    "\n",
    "ratings.drop(\"timestamp\", axis=1, inplace=True)\n",
    "\n",
    "user_ids = ratings[\"user\"].unique()\n",
    "item_ids = ratings[\"item\"].unique()\n",
    "user2idx = {u: i for i, u in enumerate(user_ids)}\n",
    "item2idx = {i: j for j, i in enumerate(item_ids)}\n",
    "\n",
    "ratings[\"user\"] = ratings[\"user\"].map(user2idx)\n",
    "ratings[\"item\"] = ratings[\"item\"].map(item2idx)\n",
    "\n",
    "n_users = len(user2idx)\n",
    "n_items = len(item2idx)"
   ]
  },
  {
   "cell_type": "markdown",
   "id": "bb18fdd3",
   "metadata": {},
   "source": [
    "### Train/Test Split"
   ]
  },
  {
   "cell_type": "code",
   "execution_count": 3,
   "id": "32d41bb9",
   "metadata": {},
   "outputs": [],
   "source": [
    "from sklearn.model_selection import train_test_split\n",
    "\n",
    "train_df, test_df = train_test_split(ratings, test_size=0.2, random_state=42)"
   ]
  },
  {
   "cell_type": "markdown",
   "id": "cb8e3bdf",
   "metadata": {},
   "source": [
    "### User–Item Matrix"
   ]
  },
  {
   "cell_type": "code",
   "execution_count": null,
   "id": "d02be31b",
   "metadata": {},
   "outputs": [
    {
     "name": "stdout",
     "output_type": "stream",
     "text": [
      "Built R matrix of shape (6040, 3706), with 800167 known entries.\n"
     ]
    }
   ],
   "source": [
    "# Initialize R with zeros\n",
    "R = np.zeros((n_users, n_items), dtype=np.float32)\n",
    "\n",
    "# Fill in with known ratings from train_df\n",
    "for row in train_df.itertuples():\n",
    "    R[row.user, row.item] = row.rating\n",
    "\n",
    "print(f\"Built R matrix of shape {R.shape}, \"\n",
    "      f\"with {np.count_nonzero(R)} known entries.\")"
   ]
  },
  {
   "cell_type": "markdown",
   "id": "a02078db",
   "metadata": {},
   "source": [
    "### UserDataset and DataLoader"
   ]
  },
  {
   "cell_type": "code",
   "execution_count": null,
   "id": "06c3d3ee",
   "metadata": {},
   "outputs": [
    {
     "name": "stdout",
     "output_type": "stream",
     "text": [
      "torch.Size([64, 3706])\n"
     ]
    }
   ],
   "source": [
    "from torch.utils.data import Dataset, DataLoader\n",
    "import torch\n",
    "\n",
    "class UserDataset(Dataset):\n",
    "    def __init__(self, R_matrix):\n",
    "        # R_matrix: a NumPy array of shape (n_users, n_items)\n",
    "        self.R = torch.from_numpy(R_matrix)  # convert to tensor\n",
    "\n",
    "    def __len__(self):\n",
    "        return self.R.size(0)  # number of users\n",
    "\n",
    "    def __getitem__(self, idx):\n",
    "        # returns the ratings vector for user idx\n",
    "        return self.R[idx]\n",
    "\n",
    "# Instantiating dataset and loader\n",
    "batch_size = 64\n",
    "user_dataset = UserDataset(R)\n",
    "user_loader  = DataLoader(user_dataset, batch_size=batch_size, shuffle=True)\n",
    "\n",
    "# Quick sanity check\n",
    "for batch in user_loader:\n",
    "    print(batch.shape)   # should print: (batch_size, n_items)\n",
    "    break"
   ]
  },
  {
   "cell_type": "markdown",
   "id": "b45b9de0",
   "metadata": {},
   "source": [
    "### AutoRec Model"
   ]
  }
 ],
 "metadata": {
  "kernelspec": {
   "display_name": "Python 3",
   "language": "python",
   "name": "python3"
  },
  "language_info": {
   "codemirror_mode": {
    "name": "ipython",
    "version": 3
   },
   "file_extension": ".py",
   "mimetype": "text/x-python",
   "name": "python",
   "nbconvert_exporter": "python",
   "pygments_lexer": "ipython3",
   "version": "3.10.6"
  }
 },
 "nbformat": 4,
 "nbformat_minor": 5
}
