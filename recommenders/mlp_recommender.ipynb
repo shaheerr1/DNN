{
 "cells": [
  {
   "cell_type": "code",
   "execution_count": 1,
   "id": "dc0640e3",
   "metadata": {},
   "outputs": [],
   "source": [
    "import pandas as pd\n",
    "import numpy as np\n",
    "import torch\n",
    "import torch.nn as nn\n",
    "from sklearn.model_selection import train_test_split\n",
    "from torch.utils.data import Dataset, DataLoader"
   ]
  },
  {
   "cell_type": "code",
   "execution_count": 2,
   "id": "59c4cafc",
   "metadata": {},
   "outputs": [
    {
     "data": {
      "text/html": [
       "<div>\n",
       "<style scoped>\n",
       "    .dataframe tbody tr th:only-of-type {\n",
       "        vertical-align: middle;\n",
       "    }\n",
       "\n",
       "    .dataframe tbody tr th {\n",
       "        vertical-align: top;\n",
       "    }\n",
       "\n",
       "    .dataframe thead th {\n",
       "        text-align: right;\n",
       "    }\n",
       "</style>\n",
       "<table border=\"1\" class=\"dataframe\">\n",
       "  <thead>\n",
       "    <tr style=\"text-align: right;\">\n",
       "      <th></th>\n",
       "      <th>user</th>\n",
       "      <th>item</th>\n",
       "      <th>rating</th>\n",
       "      <th>timestamp</th>\n",
       "    </tr>\n",
       "  </thead>\n",
       "  <tbody>\n",
       "    <tr>\n",
       "      <th>0</th>\n",
       "      <td>1</td>\n",
       "      <td>1193</td>\n",
       "      <td>5</td>\n",
       "      <td>978300760</td>\n",
       "    </tr>\n",
       "    <tr>\n",
       "      <th>1</th>\n",
       "      <td>1</td>\n",
       "      <td>661</td>\n",
       "      <td>3</td>\n",
       "      <td>978302109</td>\n",
       "    </tr>\n",
       "    <tr>\n",
       "      <th>2</th>\n",
       "      <td>1</td>\n",
       "      <td>914</td>\n",
       "      <td>3</td>\n",
       "      <td>978301968</td>\n",
       "    </tr>\n",
       "    <tr>\n",
       "      <th>3</th>\n",
       "      <td>1</td>\n",
       "      <td>3408</td>\n",
       "      <td>4</td>\n",
       "      <td>978300275</td>\n",
       "    </tr>\n",
       "    <tr>\n",
       "      <th>4</th>\n",
       "      <td>1</td>\n",
       "      <td>2355</td>\n",
       "      <td>5</td>\n",
       "      <td>978824291</td>\n",
       "    </tr>\n",
       "  </tbody>\n",
       "</table>\n",
       "</div>"
      ],
      "text/plain": [
       "   user  item  rating  timestamp\n",
       "0     1  1193       5  978300760\n",
       "1     1   661       3  978302109\n",
       "2     1   914       3  978301968\n",
       "3     1  3408       4  978300275\n",
       "4     1  2355       5  978824291"
      ]
     },
     "execution_count": 2,
     "metadata": {},
     "output_type": "execute_result"
    }
   ],
   "source": [
    "df = pd.read_csv(\"data/ratings.dat\", sep=\"::\", engine='python', names=[\"user\", \"item\", \"rating\", \"timestamp\"])\n",
    "df.head()"
   ]
  },
  {
   "cell_type": "markdown",
   "id": "c3d03116",
   "metadata": {},
   "source": [
    " ### Cleaning & Encoding the Data"
   ]
  },
  {
   "cell_type": "code",
   "execution_count": null,
   "id": "4b07945e",
   "metadata": {},
   "outputs": [
    {
     "data": {
      "text/html": [
       "<div>\n",
       "<style scoped>\n",
       "    .dataframe tbody tr th:only-of-type {\n",
       "        vertical-align: middle;\n",
       "    }\n",
       "\n",
       "    .dataframe tbody tr th {\n",
       "        vertical-align: top;\n",
       "    }\n",
       "\n",
       "    .dataframe thead th {\n",
       "        text-align: right;\n",
       "    }\n",
       "</style>\n",
       "<table border=\"1\" class=\"dataframe\">\n",
       "  <thead>\n",
       "    <tr style=\"text-align: right;\">\n",
       "      <th></th>\n",
       "      <th>user</th>\n",
       "      <th>item</th>\n",
       "      <th>rating</th>\n",
       "    </tr>\n",
       "  </thead>\n",
       "  <tbody>\n",
       "    <tr>\n",
       "      <th>0</th>\n",
       "      <td>0</td>\n",
       "      <td>0</td>\n",
       "      <td>5</td>\n",
       "    </tr>\n",
       "    <tr>\n",
       "      <th>1</th>\n",
       "      <td>0</td>\n",
       "      <td>1</td>\n",
       "      <td>3</td>\n",
       "    </tr>\n",
       "    <tr>\n",
       "      <th>2</th>\n",
       "      <td>0</td>\n",
       "      <td>2</td>\n",
       "      <td>3</td>\n",
       "    </tr>\n",
       "    <tr>\n",
       "      <th>3</th>\n",
       "      <td>0</td>\n",
       "      <td>3</td>\n",
       "      <td>4</td>\n",
       "    </tr>\n",
       "    <tr>\n",
       "      <th>4</th>\n",
       "      <td>0</td>\n",
       "      <td>4</td>\n",
       "      <td>5</td>\n",
       "    </tr>\n",
       "  </tbody>\n",
       "</table>\n",
       "</div>"
      ],
      "text/plain": [
       "   user  item  rating\n",
       "0     0     0       5\n",
       "1     0     1       3\n",
       "2     0     2       3\n",
       "3     0     3       4\n",
       "4     0     4       5"
      ]
     },
     "execution_count": 4,
     "metadata": {},
     "output_type": "execute_result"
    }
   ],
   "source": [
    "# Droping timestamp\n",
    "df.drop(\"timestamp\", axis=1, inplace=True)\n",
    "\n",
    "# Maping users and items to new indices\n",
    "user_ids = df[\"user\"].unique()\n",
    "item_ids = df[\"item\"].unique()\n",
    "\n",
    "user2idx = {user: idx for idx, user in enumerate(user_ids)}\n",
    "item2idx = {item: idx for idx, item in enumerate(item_ids)}\n",
    "\n",
    "df[\"user\"] = df[\"user\"].map(user2idx)\n",
    "df[\"item\"] = df[\"item\"].map(item2idx)\n",
    "\n",
    "n_users = len(user2idx)\n",
    "n_items = len(item2idx)\n",
    "\n",
    "df.head()"
   ]
  },
  {
   "cell_type": "markdown",
   "id": "fe768bba",
   "metadata": {},
   "source": [
    "### Dataset Class"
   ]
  },
  {
   "cell_type": "code",
   "execution_count": 5,
   "id": "8726fb76",
   "metadata": {},
   "outputs": [],
   "source": [
    "class RatingsDataset(torch.utils.data.Dataset):\n",
    "    def __init__(self, df):\n",
    "        self.users = df[\"user\"].values\n",
    "        self.items = df[\"item\"].values\n",
    "        self.ratings = df[\"rating\"].values.astype(np.float32)\n",
    "\n",
    "    def __len__(self):\n",
    "        return len(self.ratings)\n",
    "\n",
    "    def __getitem__(self, idx):\n",
    "        return (\n",
    "            torch.tensor(self.users[idx]),\n",
    "            torch.tensor(self.items[idx]),\n",
    "            torch.tensor(self.ratings[idx])\n",
    "        )"
   ]
  },
  {
   "cell_type": "markdown",
   "id": "c29d14e0",
   "metadata": {},
   "source": [
    "### Train-Test Split and DataLoaders"
   ]
  },
  {
   "cell_type": "code",
   "execution_count": null,
   "id": "2c83bdeb",
   "metadata": {},
   "outputs": [],
   "source": [
    "# Spliting the dataset\n",
    "train_df, test_df = train_test_split(df, test_size=0.2, random_state=42)\n",
    "\n",
    "# Creating datasets\n",
    "train_dataset = RatingsDataset(train_df)\n",
    "test_dataset = RatingsDataset(test_df)\n",
    "\n",
    "# Creating data loaders\n",
    "train_loader = DataLoader(train_dataset, batch_size=256, shuffle=True)\n",
    "test_loader = DataLoader(test_dataset, batch_size=256)"
   ]
  },
  {
   "cell_type": "markdown",
   "id": "785319aa",
   "metadata": {},
   "source": [
    "### MLP Model"
   ]
  },
  {
   "cell_type": "code",
   "execution_count": 13,
   "id": "7a700ff9",
   "metadata": {},
   "outputs": [],
   "source": [
    "class MLPRecommender(nn.Module):\n",
    "    def __init__(self, n_users, n_items, embedding_dim=64):\n",
    "        super(MLPRecommender, self).__init__()\n",
    "        self.user_embedding = nn.Embedding(n_users, embedding_dim)\n",
    "        self.item_embedding = nn.Embedding(n_items, embedding_dim)\n",
    "\n",
    "        self.layers = nn.Sequential(\n",
    "        nn.Linear(embedding_dim * 2, 128),\n",
    "        nn.ReLU(),\n",
    "        nn.Dropout(0.3),  # new\n",
    "        nn.Linear(128, 64),\n",
    "        nn.ReLU(),\n",
    "        nn.Dropout(0.3),  # new\n",
    "        nn.Linear(64, 1)\n",
    "        )\n",
    "\n",
    "    def forward(self, user, item):\n",
    "        user_emb = self.user_embedding(user)\n",
    "        item_emb = self.item_embedding(item)\n",
    "        x = torch.cat([user_emb, item_emb], dim=1)\n",
    "        return self.layers(x).squeeze()"
   ]
  },
  {
   "cell_type": "markdown",
   "id": "bcd70890",
   "metadata": {},
   "source": [
    "### Initializing Model, Loss Function, and Optimizer"
   ]
  },
  {
   "cell_type": "code",
   "execution_count": 15,
   "id": "c3752f80",
   "metadata": {},
   "outputs": [],
   "source": [
    "\n",
    "device = torch.device(\"cuda\" if torch.cuda.is_available() else \"cpu\")\n",
    "\n",
    "# Instantiating the model\n",
    "model = MLPRecommender(n_users, n_items, embedding_dim=128).to(device)\n",
    "\n",
    "# Loss and optimizer\n",
    "loss_fn = nn.MSELoss()\n",
    "optimizer = torch.optim.Adam(model.parameters(), lr=0.001, weight_decay=1e-5)"
   ]
  },
  {
   "cell_type": "markdown",
   "id": "2f4704cb",
   "metadata": {},
   "source": [
    "### Training Loop"
   ]
  },
  {
   "cell_type": "code",
   "execution_count": 16,
   "id": "7d24fc6c",
   "metadata": {},
   "outputs": [
    {
     "name": "stdout",
     "output_type": "stream",
     "text": [
      "Epoch 1/10, Training Loss: 1.2363\n",
      "Epoch 2/10, Training Loss: 0.9355\n",
      "Epoch 3/10, Training Loss: 0.8676\n",
      "Epoch 4/10, Training Loss: 0.8357\n",
      "Epoch 5/10, Training Loss: 0.8157\n",
      "Epoch 6/10, Training Loss: 0.8005\n",
      "Epoch 7/10, Training Loss: 0.7871\n",
      "Epoch 8/10, Training Loss: 0.7773\n",
      "Epoch 9/10, Training Loss: 0.7674\n",
      "Epoch 10/10, Training Loss: 0.7580\n"
     ]
    }
   ],
   "source": [
    "num_epochs = 10\n",
    "\n",
    "for epoch in range(num_epochs):\n",
    "    model.train()\n",
    "    total_loss = 0\n",
    "\n",
    "    for user, item, rating in train_loader:\n",
    "        user, item, rating = user.to(device), item.to(device), rating.to(device)\n",
    "\n",
    "        # Forward pass\n",
    "        preds = model(user, item)\n",
    "        loss = loss_fn(preds, rating)\n",
    "\n",
    "        # Backward pass\n",
    "        optimizer.zero_grad()\n",
    "        loss.backward()\n",
    "        optimizer.step()\n",
    "\n",
    "        total_loss += loss.item()\n",
    "\n",
    "    print(f\"Epoch {epoch+1}/{num_epochs}, Training Loss: {total_loss / len(train_loader):.4f}\")"
   ]
  },
  {
   "cell_type": "markdown",
   "id": "728ce4ab",
   "metadata": {},
   "source": [
    "### Evaluating the Model using RMSE"
   ]
  },
  {
   "cell_type": "code",
   "execution_count": 17,
   "id": "9d34132a",
   "metadata": {},
   "outputs": [
    {
     "name": "stdout",
     "output_type": "stream",
     "text": [
      "Test RMSE: 0.8859\n"
     ]
    }
   ],
   "source": [
    "def evaluate_rmse(model, dataloader):\n",
    "    model.eval()\n",
    "    mse_loss = 0\n",
    "    with torch.no_grad():\n",
    "        for user, item, rating in dataloader:\n",
    "            user, item, rating = user.to(device), item.to(device), rating.to(device)\n",
    "            preds = model(user, item)\n",
    "            mse_loss += nn.functional.mse_loss(preds, rating, reduction='sum').item()\n",
    "    \n",
    "    rmse = np.sqrt(mse_loss / len(dataloader.dataset))\n",
    "    return rmse\n",
    "\n",
    "rmse = evaluate_rmse(model, test_loader)\n",
    "print(f\"Test RMSE: {rmse:.4f}\")"
   ]
  },
  {
   "cell_type": "markdown",
   "id": "47e9a9d6",
   "metadata": {},
   "source": [
    " ### Evaluating the Model using MAE "
   ]
  },
  {
   "cell_type": "code",
   "execution_count": 18,
   "id": "46362959",
   "metadata": {},
   "outputs": [
    {
     "name": "stdout",
     "output_type": "stream",
     "text": [
      "Test MAE: 0.6970\n"
     ]
    }
   ],
   "source": [
    "def evaluate_mae(model, dataloader):\n",
    "    model.eval()\n",
    "    abs_error = 0\n",
    "    with torch.no_grad():\n",
    "        for user, item, rating in dataloader:\n",
    "            user, item, rating = user.to(device), item.to(device), rating.to(device)\n",
    "            preds = model(user, item)\n",
    "            abs_error += torch.sum(torch.abs(preds - rating)).item()\n",
    "    \n",
    "    mae = abs_error / len(dataloader.dataset)\n",
    "    return mae\n",
    "\n",
    "\n",
    "mae = evaluate_mae(model, test_loader)\n",
    "print(f\"Test MAE: {mae:.4f}\")"
   ]
  },
  {
   "cell_type": "markdown",
   "id": "04430191",
   "metadata": {},
   "source": [
    "## Recommendation System"
   ]
  },
  {
   "cell_type": "markdown",
   "id": "8a3eb4e4",
   "metadata": {},
   "source": [
    "### Loading Movie Metadata"
   ]
  },
  {
   "cell_type": "code",
   "execution_count": null,
   "id": "60965ca3",
   "metadata": {},
   "outputs": [
    {
     "data": {
      "text/plain": [
       "[(0, \"One Flew Over the Cuckoo's Nest (1975)\"),\n",
       " (1, 'James and the Giant Peach (1996)'),\n",
       " (2, 'My Fair Lady (1964)'),\n",
       " (3, 'Erin Brockovich (2000)'),\n",
       " (4, \"Bug's Life, A (1998)\")]"
      ]
     },
     "execution_count": 22,
     "metadata": {},
     "output_type": "execute_result"
    }
   ],
   "source": [
    "movies = pd.read_csv(\n",
    "    \"data/movies.dat\",\n",
    "    sep=\"::\",\n",
    "    engine=\"python\",\n",
    "    names=[\"item\", \"title\", \"genres\"],\n",
    "    encoding=\"latin-1\"\n",
    ")\n",
    "\n",
    "idx2item = {new_idx: orig_id for orig_id, new_idx in item2idx.items()}\n",
    "idx2title = {\n",
    "    new_idx: movies.loc[movies['item'] == orig_id, 'title'].values[0]\n",
    "    for new_idx, orig_id in idx2item.items()\n",
    "}\n",
    "\n",
    "list(idx2title.items())[:5]"
   ]
  },
  {
   "cell_type": "markdown",
   "id": "22008212",
   "metadata": {},
   "source": [
    "### Recommendation Function"
   ]
  },
  {
   "cell_type": "code",
   "execution_count": null,
   "id": "a229e9f1",
   "metadata": {},
   "outputs": [
    {
     "name": "stdout",
     "output_type": "stream",
     "text": [
      "1. Shawshank Redemption, The (1994)\n",
      "2. Raiders of the Lost Ark (1981)\n",
      "3. Usual Suspects, The (1995)\n",
      "4. Great Escape, The (1963)\n",
      "5. It's a Wonderful Life (1946)\n",
      "6. Sting, The (1973)\n",
      "7. Rear Window (1954)\n",
      "8. Star Wars: Episode V - The Empire Strikes Back (1980)\n",
      "9. Good Will Hunting (1997)\n",
      "10. Silence of the Lambs, The (1991)\n"
     ]
    }
   ],
   "source": [
    "def recommend_movies(model, user_id, df, n=10):\n",
    "    model.eval()\n",
    "    all_items = set(range(n_items))\n",
    "    seen = set(df[df['user'] == user_id]['item'].values)\n",
    "    unseen = list(all_items - seen)\n",
    "\n",
    "    user_tensor = torch.tensor([user_id] * len(unseen)).to(device)\n",
    "    item_tensor = torch.tensor(unseen).to(device)\n",
    "\n",
    "    with torch.no_grad():\n",
    "        scores = model(user_tensor, item_tensor)\n",
    "\n",
    "    topk = torch.topk(scores, n).indices.cpu().numpy()\n",
    "    rec_idxs = [unseen[i] for i in topk]\n",
    "    return [idx2title[idx] for idx in rec_idxs]\n",
    "\n",
    "# SET THE USER ID HERE\n",
    "# Example: Recommend movies for user with ID 0\n",
    "user_id = 0\n",
    "top10 = recommend_movies(model, user_id, df, n=10)\n",
    "for i, title in enumerate(top10, 1):\n",
    "    print(f\"{i}. {title}\")"
   ]
  }
 ],
 "metadata": {
  "kernelspec": {
   "display_name": "Python 3",
   "language": "python",
   "name": "python3"
  },
  "language_info": {
   "codemirror_mode": {
    "name": "ipython",
    "version": 3
   },
   "file_extension": ".py",
   "mimetype": "text/x-python",
   "name": "python",
   "nbconvert_exporter": "python",
   "pygments_lexer": "ipython3",
   "version": "3.10.6"
  }
 },
 "nbformat": 4,
 "nbformat_minor": 5
}
